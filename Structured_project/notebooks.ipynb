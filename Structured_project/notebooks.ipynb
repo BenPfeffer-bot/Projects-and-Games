{
 "cells": [
  {
   "cell_type": "code",
   "execution_count": 22,
   "metadata": {},
   "outputs": [],
   "source": [
    "import pandas as pd\n",
    "import numpy as np\n",
    "import logging\n",
    "from datetime import datetime, date\n",
    "from io import StringIO\n",
    "\n",
    "# Configure logging\n",
    "logging.basicConfig(level=logging.INFO, format='%(asctime)s %(levelname)s:%(message)s')\n"
   ]
  },
  {
   "cell_type": "code",
   "execution_count": 23,
   "metadata": {},
   "outputs": [],
   "source": [
    "# If your modules are in a different directory, adjust sys.path\n",
    "import sys\n",
    "sys.path.append('path_to_your_project_directory')\n",
    "\n",
    "# Import your classes and functions\n",
    "from data_processing.data_processor import DataProcessor\n",
    "from data_processing.report_generator import ReportGenerator\n",
    "from utils.helpers import determine_period\n",
    "from config.settings import HARD_CODED_DATA\n",
    "\n",
    "# Since the modules might not be accessible, we can define the classes and functions directly in the notebook\n"
   ]
  },
  {
   "cell_type": "code",
   "execution_count": 25,
   "metadata": {},
   "outputs": [],
   "source": [
    "#    Determines the period identifier for a given date.\n",
    "\n",
    "def determine_period(input_date):\n",
    "    \"\"\"\n",
    "    Determines the period identifier for a given date.\n",
    "\n",
    "    The periods are defined based on specific date ranges, following a recurring\n",
    "    pattern every two years. The function calculates the period number based on\n",
    "    the input date.\n",
    "\n",
    "    Args:\n",
    "        input_date (datetime.date or datetime.datetime or str): The input date.\n",
    "\n",
    "    Returns:\n",
    "        str or None: The period identifier (e.g., 'P1', 'P2', etc.), or None if the date is invalid.\n",
    "    \"\"\"\n",
    "    # Handle NaT values\n",
    "    if pd.isna(input_date):\n",
    "        return None\n",
    "\n",
    "    # Convert input_date to date object if it's a string\n",
    "    if isinstance(input_date, str):\n",
    "        try:\n",
    "            input_date = datetime.strptime(input_date, \"%d/%m/%Y\").date()\n",
    "        except ValueError:\n",
    "            return None  # Return None if the date string is invalid\n",
    "    elif isinstance(input_date, datetime):\n",
    "        input_date = input_date.date()\n",
    "    elif not isinstance(input_date, date):\n",
    "        return None  # Return None for any other unexpected type\n",
    "\n",
    "    # Define the base date (start of P1)\n",
    "    base_date = date(2020, 1, 1)\n",
    "\n",
    "    # Calculate the number of days since the base date\n",
    "    days_since_base = (input_date - base_date).days\n",
    "\n",
    "    # Handle dates before the base date\n",
    "    if days_since_base < 0:\n",
    "        return None  # or you could return a special period for pre-2020 dates\n",
    "\n",
    "    # Calculate the number of complete 2-year cycles\n",
    "    two_year_cycles = days_since_base // 730  # 730 days in 2 years (ignoring leap years for simplicity)\n",
    "\n",
    "    # Calculate the remaining days within the current 2-year cycle\n",
    "    days_in_cycle = days_since_base % 730\n",
    "\n",
    "    # Determine the period within the 2-year cycle\n",
    "    if days_in_cycle < 181:  # First 6 months (181 days)\n",
    "        period_in_cycle = 1\n",
    "    elif days_in_cycle < 273:  # Next 3 months (92 days)\n",
    "        period_in_cycle = 2\n",
    "    elif days_in_cycle < 365:  # Next 3 months (92 days)\n",
    "        period_in_cycle = 3\n",
    "    elif days_in_cycle < 456:  # Next 3 months (91 days)\n",
    "        period_in_cycle = 4\n",
    "    elif days_in_cycle < 547:  # Next 3 months (91 days)\n",
    "        period_in_cycle = 5\n",
    "    elif days_in_cycle < 638:  # Next 3 months (91 days)\n",
    "        period_in_cycle = 6\n",
    "    else:  # Last 3 months (92 days)\n",
    "        period_in_cycle = 7\n",
    "\n",
    "    # Calculate the final period number\n",
    "    period_number = two_year_cycles * 7 + period_in_cycle\n",
    "\n",
    "    return f\"P{period_number}\"\n",
    "\n",
    "def clean_isin(isin):\n",
    "    \"\"\"\n",
    "    Cleans and standardizes ISIN codes.\n",
    "\n",
    "    Args:\n",
    "        isin (str): The ISIN code to clean.\n",
    "\n",
    "    Returns:\n",
    "        str: The cleaned and standardized ISIN code.\n",
    "    \"\"\"\n",
    "    return str(isin).strip().upper()\n"
   ]
  },
  {
   "cell_type": "code",
   "execution_count": 26,
   "metadata": {},
   "outputs": [
    {
     "ename": "TypeError",
     "evalue": "DataProcessor.__init__() got an unexpected keyword argument 'trade_source_df'",
     "output_type": "error",
     "traceback": [
      "\u001b[0;31m---------------------------------------------------------------------------\u001b[0m",
      "\u001b[0;31mTypeError\u001b[0m                                 Traceback (most recent call last)",
      "Cell \u001b[0;32mIn[26], line 2\u001b[0m\n\u001b[1;32m      1\u001b[0m \u001b[38;5;66;03m# Instantiate DataProcessor with DataFrames\u001b[39;00m\n\u001b[0;32m----> 2\u001b[0m data_processor \u001b[38;5;241m=\u001b[39m \u001b[43mDataProcessor\u001b[49m\u001b[43m(\u001b[49m\n\u001b[1;32m      3\u001b[0m \u001b[43m    \u001b[49m\u001b[43mesma_si_df\u001b[49m\u001b[38;5;241;43m=\u001b[39;49m\u001b[43mesma_si_df\u001b[49m\u001b[43m,\u001b[49m\n\u001b[1;32m      4\u001b[0m \u001b[43m    \u001b[49m\u001b[43mtrade_source_df\u001b[49m\u001b[38;5;241;43m=\u001b[39;49m\u001b[43mtrade_source_df\u001b[49m\u001b[43m,\u001b[49m\n\u001b[1;32m      5\u001b[0m \u001b[43m    \u001b[49m\u001b[43mtrade_source_scope_df\u001b[49m\u001b[38;5;241;43m=\u001b[39;49m\u001b[43mtrade_source_scope_df\u001b[49m\u001b[43m,\u001b[49m\n\u001b[1;32m      6\u001b[0m \u001b[43m    \u001b[49m\u001b[43mesma_threshold_df\u001b[49m\u001b[38;5;241;43m=\u001b[39;49m\u001b[43mesma_threshold_df\u001b[49m\n\u001b[1;32m      7\u001b[0m \u001b[43m)\u001b[49m\n\u001b[1;32m      9\u001b[0m \u001b[38;5;66;03m# Run data processing\u001b[39;00m\n\u001b[1;32m     10\u001b[0m data_processor\u001b[38;5;241m.\u001b[39mprocess_data()\n",
      "\u001b[0;31mTypeError\u001b[0m: DataProcessor.__init__() got an unexpected keyword argument 'trade_source_df'"
     ]
    }
   ],
   "source": [
    "# Instantiate DataProcessor with DataFrames\n",
    "data_processor = DataProcessor(\n",
    "    esma_si_df=esma_si_df,\n",
    "    trade_source_df=trade_source_df,\n",
    "    trade_source_scope_df=trade_source_scope_df,\n",
    "    esma_threshold_df=esma_threshold_df\n",
    ")\n",
    "\n",
    "# Run data processing\n",
    "data_processor.process_data()\n"
   ]
  },
  {
   "cell_type": "code",
   "execution_count": null,
   "metadata": {},
   "outputs": [],
   "source": [
    "# Access the processed data\n",
    "processed_trade_source = data_processor.trade_source\n",
    "processed_trade_source_scope = data_processor.trade_source_scope\n",
    "result_df = data_processor.result_df\n",
    "issuer_review = data_processor.issuer_review\n"
   ]
  },
  {
   "cell_type": "code",
   "execution_count": null,
   "metadata": {},
   "outputs": [],
   "source": [
    "# Check the first few rows\n",
    "print(processed_trade_source.head())\n",
    "print(processed_trade_source_scope.head())\n",
    "print(result_df.head())\n",
    "print(issuer_review.head())\n",
    "\n",
    "# Check DataFrame info\n",
    "processed_trade_source.info()\n",
    "processed_trade_source_scope.info()\n",
    "result_df.info()\n",
    "issuer_review.info()\n"
   ]
  },
  {
   "cell_type": "code",
   "execution_count": null,
   "metadata": {},
   "outputs": [],
   "source": [
    "# Check for NaN values in critical columns\n",
    "print(processed_trade_source['ISSUER'].isna().sum())\n",
    "print(processed_trade_source_scope['ISSUER'].isna().sum())\n",
    "\n",
    "# Verify that 'Period' columns are correctly assigned\n",
    "print(processed_trade_source['Period'].unique())\n",
    "print(esma_si_df['Period'].unique())\n"
   ]
  },
  {
   "cell_type": "markdown",
   "metadata": {},
   "source": [
    "Generate the Report:\n",
    "\n"
   ]
  },
  {
   "cell_type": "code",
   "execution_count": null,
   "metadata": {},
   "outputs": [],
   "source": [
    "# Specify the output directory (can be a temporary directory)\n",
    "output_dir = 'path_to_output_directory'  # Replace with your desired path\n",
    "\n",
    "# Instantiate ReportGenerator\n",
    "report_generator = ReportGenerator(output_dir)\n",
    "\n",
    "# Generate the report\n",
    "report = report_generator.generate_report(\n",
    "    esma_si_df=esma_si_df,\n",
    "    trade_source=processed_trade_source,\n",
    "    trade_source_scope=processed_trade_source_scope,\n",
    "    result_df=result_df,\n",
    "    issuer_review=issuer_review,\n",
    "    all_periods=data_processor.all_periods\n",
    ")\n",
    "\n",
    "# Display the report\n",
    "print(report)\n"
   ]
  },
  {
   "cell_type": "markdown",
   "metadata": {},
   "source": [
    "Example: Total Trades per Period\n",
    "\n"
   ]
  },
  {
   "cell_type": "code",
   "execution_count": null,
   "metadata": {},
   "outputs": [],
   "source": [
    "import matplotlib.pyplot as plt\n",
    "\n",
    "# Total trades per period in Trade_Source\n",
    "trade_counts = processed_trade_source['Period'].value_counts().sort_index()\n",
    "\n",
    "plt.figure(figsize=(10, 6))\n",
    "trade_counts.plot(kind='bar')\n",
    "plt.title('Total Trades per Period')\n",
    "plt.xlabel('Period')\n",
    "plt.ylabel('Number of Trades')\n",
    "plt.show()\n"
   ]
  },
  {
   "cell_type": "markdown",
   "metadata": {},
   "source": [
    "Example: SI Scores per Issuer\n",
    "\n"
   ]
  },
  {
   "cell_type": "code",
   "execution_count": null,
   "metadata": {},
   "outputs": [],
   "source": [
    "# Ensure 'Total SI Score' is calculated\n",
    "issuer_review['Total SI Score'] = issuer_review.filter(regex='SI Score').sum(axis=1)\n",
    "\n",
    "# Top 10 issuers by SI Score\n",
    "top_issuers = issuer_review.nlargest(10, 'Total SI Score')\n",
    "\n",
    "plt.figure(figsize=(10, 6))\n",
    "plt.barh(top_issuers['ISSUER'], top_issuers['Total SI Score'])\n",
    "plt.title('Top 10 Issuers by Total SI Score')\n",
    "plt.xlabel('Total SI Score')\n",
    "plt.ylabel('Issuer')\n",
    "plt.gca().invert_yaxis()  # Invert y-axis to have the highest score on top\n",
    "plt.show()\n"
   ]
  }
 ],
 "metadata": {
  "kernelspec": {
   "display_name": "Python 3",
   "language": "python",
   "name": "python3"
  },
  "language_info": {
   "codemirror_mode": {
    "name": "ipython",
    "version": 3
   },
   "file_extension": ".py",
   "mimetype": "text/x-python",
   "name": "python",
   "nbconvert_exporter": "python",
   "pygments_lexer": "ipython3",
   "version": "3.12.4"
  }
 },
 "nbformat": 4,
 "nbformat_minor": 2
}
