{
 "cells": [
  {
   "cell_type": "code",
   "execution_count": 5,
   "metadata": {},
   "outputs": [
    {
     "data": {
      "text/plain": [
       "1000.0"
      ]
     },
     "execution_count": 5,
     "metadata": {},
     "output_type": "execute_result"
    }
   ],
   "source": [
    "\"\"\"\n",
    "Calculer FV/PV  of a bond or money using time value\n",
    "We are going to compute based on the following formulas:\n",
    "\n",
    "FV_t = PV(1 + r)^t \n",
    "\n",
    "If the number of compounding periods t is very large, that is, t→∞, \n",
    "we compound the initial cash flow on a continuous basis as follows:\n",
    "\n",
    "=> FV_t = PVe^(r * t)\n",
    "\n",
    "\n",
    "To derive FV to PV:\n",
    "\n",
    "FV_t = PV(1 + r)^t \n",
    "PV = FV_t[1 / (1 + r)^t]\n",
    "PV = FV_t / (1 + r)^t  <=> FV_t*(1 +R)^(-t)\n",
    "\n",
    "\n",
    "t = time\n",
    "r = interest rate\n",
    "FV = Future Value\n",
    "PV = Present Value\n",
    "\"\"\"\n",
    "\n",
    "\n",
    "# 1. Lets create a function to calculate FV/PV of a bond or money\n",
    "\n",
    "def future_value(PV,r,t,periodity=1):\n",
    "    \"\"\"\n",
    "    We will apply and find the future value when the key informatioin s are inputed:\n",
    "    m = 1 is the default periodicity [i.e Annual]\n",
    "    t as year\n",
    "    r inputed as decimal pourcentage\n",
    "    \"\"\"\n",
    "    FV = PV * ((1 + r) ** (t * periodity))\n",
    "\n",
    "    return FV\n",
    "\n",
    "def present_value(FV,r,t,periodity=1):\n",
    "    \"\"\"\n",
    "    We will apply and find the present value when the key informatioin s are inputed:\n",
    "    m = 1 is the default periodicity [i.e Annual]\n",
    "    t as year\n",
    "    r inputed as decimal pourcentage\n",
    "    \"\"\" \n",
    "    PV = FV / ((1 + r) ** (t * periodity))\n",
    "\n",
    "    return PV\n",
    "\n",
    "\n",
    "future_value(1000,0.05,5)\n",
    "present_value(1276.2815625000003,0.05,5)\n",
    "\n",
    "#Come back to 1000 its properly working\n",
    "\n"
   ]
  },
  {
   "cell_type": "code",
   "execution_count": null,
   "metadata": {},
   "outputs": [],
   "source": []
  },
  {
   "cell_type": "code",
   "execution_count": null,
   "metadata": {},
   "outputs": [],
   "source": [
    "\n"
   ]
  }
 ],
 "metadata": {
  "kernelspec": {
   "display_name": "Python 3",
   "language": "python",
   "name": "python3"
  },
  "language_info": {
   "codemirror_mode": {
    "name": "ipython",
    "version": 3
   },
   "file_extension": ".py",
   "mimetype": "text/x-python",
   "name": "python",
   "nbconvert_exporter": "python",
   "pygments_lexer": "ipython3",
   "version": "3.12.1"
  }
 },
 "nbformat": 4,
 "nbformat_minor": 2
}
